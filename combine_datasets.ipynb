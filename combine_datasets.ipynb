{
 "cells": [
  {
   "cell_type": "code",
   "execution_count": 3,
   "metadata": {},
   "outputs": [],
   "source": [
    "import numpy as np \n",
    "import pandas as pd \n",
    "import matplotlib.pyplot as plt \n",
    "import seaborn as sns \n",
    "pd.set_option('display.max_rows', 500)\n",
    "pd.set_option('display.max_columns', 500)\n",
    "pd.set_option('display.width', 1000)"
   ]
  },
  {
   "cell_type": "code",
   "execution_count": 7,
   "metadata": {},
   "outputs": [
    {
     "name": "stderr",
     "output_type": "stream",
     "text": [
      "C:\\Users\\Jordan Fan\\Anaconda3\\envs\\stat159\\lib\\site-packages\\IPython\\core\\interactiveshell.py:2785: DtypeWarning: Columns (4,6) have mixed types. Specify dtype option on import or set low_memory=False.\n",
      "  interactivity=interactivity, compiler=compiler, result=result)\n"
     ]
    }
   ],
   "source": [
    "drug_cost = pd.read_csv(\"NADAC__National_Average_Drug_Acquisition_Cost_.csv\")\n",
    "drug_cost = drug_cost[[\"NDC Description\", \"NADAC_Per_Unit\"]]\n",
    "drug_cost.columns = [\"drugName\", \"price\"]\n",
    "\n",
    "drugcom = pd.read_csv(\"drugcom_train.csv\")\n",
    "drugcom = drugcom.iloc[:, 1:]\n",
    "drugcom.columns = drugcom.iloc[0, :]\n",
    "drugcom = drugcom.iloc[1:, :]\n",
    "\n",
    "drugcom_test = pd.read_csv(\"drugcom_test.csv\")\n",
    "drugcom_test = drugcom_test.iloc[:, 1:]\n",
    "drugcom_test.columns = drugcom_test.iloc[0, :]\n",
    "drugcom_test = drugcom_test.iloc[1:, :]\n",
    "\n",
    "druglib = pd.read_csv(\"druglib_train.csv\")\n",
    "druglib = druglib.iloc[:, 1:]\n",
    "druglib.columns = ['drugName', 'rating', 'effectiveness', 'sideEffects', 'condition',\n",
    "       'benefitsReview', 'sideEffectsReview', 'commentsReview']\n",
    "druglib = druglib.iloc[1:, :]\n",
    "\n",
    "druglib_test = pd.read_csv(\"druglib_test.csv\")\n",
    "druglib_test = druglib_test.iloc[:, 1:]\n",
    "druglib_test.columns = ['drugName', 'rating', 'effectiveness', 'sideEffects', 'condition',\n",
    "       'benefitsReview', 'sideEffectsReview', 'commentsReview']\n",
    "druglib_test = druglib_test.iloc[1:, :]\n",
    "\n",
    "dnames = pd.read_csv(\"drugNames.csv\")\n",
    "dnames = dnames[[\"DrugName\", \"ActiveIngredient\"]]\n",
    "\n"
   ]
  },
  {
   "cell_type": "markdown",
   "metadata": {},
   "source": [
    "### Processing drug names, take first word of drug name"
   ]
  },
  {
   "cell_type": "code",
   "execution_count": 3,
   "metadata": {
    "scrolled": true
   },
   "outputs": [],
   "source": [
    "#removes punctuations, numbers, hyphens, and then takes the first word of the \n",
    "def process_str(df, column):\n",
    "    df2 = df.copy()\n",
    "    new_column_name = \"first_\" + column\n",
    "    new_column = df2[column].str.lower().str.replace(\"[^a-z\\s-]\", \" \").str.replace(\"-\", \"\").str.strip().str.split(\" \").apply(lambda x: x[0])\n",
    "    df2[new_column_name] = new_column\n",
    "    return df2\n",
    "\n",
    "drug_cost = process_str(drug_cost, \"drugName\")\n",
    "dnames = process_str(dnames, \"DrugName\")\n",
    "dnames = process_str(dnames, \"ActiveIngredient\")\n",
    "drugcom = process_str(drugcom, \"drugName\")\n",
    "drugcom_test = process_str(drugcom_test, \"drugName\")\n",
    "druglib = process_str(druglib, \"drugName\")\n",
    "druglib_test = process_str(druglib_test, \"drugName\")\n"
   ]
  },
  {
   "cell_type": "code",
   "execution_count": 4,
   "metadata": {
    "scrolled": true
   },
   "outputs": [],
   "source": [
    "druglib_full = druglib.append(druglib_test)\n",
    "#If there are multiple over-the-counter names or active ingredient names associated for the drug name, then choose the most frequent one that shows up\n",
    "druglib_full[\"active_ingredient_name\"] = druglib_full.first_drugName.apply(lambda x: dnames[dnames.first_DrugName == x].first_ActiveIngredient.value_counts().index[0]\n",
    "                                                           if x in dnames.first_DrugName.tolist() else x)\n",
    "druglib_full[\"over_counter_name\"] = druglib_full.first_drugName.apply(lambda x: dnames[dnames.first_ActiveIngredient == x].first_DrugName.value_counts().index[0]\n",
    "                                                           if x in dnames.first_ActiveIngredient.tolist() else x)\n"
   ]
  },
  {
   "cell_type": "markdown",
   "metadata": {},
   "source": [
    "### Unique drug names, active ingredient names, and over the counter names"
   ]
  },
  {
   "cell_type": "code",
   "execution_count": 5,
   "metadata": {},
   "outputs": [
    {
     "data": {
      "text/html": [
       "<div>\n",
       "<style scoped>\n",
       "    .dataframe tbody tr th:only-of-type {\n",
       "        vertical-align: middle;\n",
       "    }\n",
       "\n",
       "    .dataframe tbody tr th {\n",
       "        vertical-align: top;\n",
       "    }\n",
       "\n",
       "    .dataframe thead th {\n",
       "        text-align: right;\n",
       "    }\n",
       "</style>\n",
       "<table border=\"1\" class=\"dataframe\">\n",
       "  <thead>\n",
       "    <tr style=\"text-align: right;\">\n",
       "      <th></th>\n",
       "      <th>drugName</th>\n",
       "      <th>rating</th>\n",
       "      <th>effectiveness</th>\n",
       "      <th>sideEffects</th>\n",
       "      <th>condition</th>\n",
       "      <th>benefitsReview</th>\n",
       "      <th>sideEffectsReview</th>\n",
       "      <th>commentsReview</th>\n",
       "      <th>first_drugName</th>\n",
       "      <th>active_ingredient_name</th>\n",
       "      <th>over_counter_name</th>\n",
       "    </tr>\n",
       "  </thead>\n",
       "  <tbody>\n",
       "    <tr>\n",
       "      <th>2388</th>\n",
       "      <td>amphetamine</td>\n",
       "      <td>9</td>\n",
       "      <td>Considerably Effective</td>\n",
       "      <td>Mild Side Effects</td>\n",
       "      <td>add</td>\n",
       "      <td>Elimated restless feeling and able to sleep at...</td>\n",
       "      <td>Taken on an empty stomach, it makes you a litt...</td>\n",
       "      <td>My doctor recommended this course of treatment...</td>\n",
       "      <td>amphetamine</td>\n",
       "      <td>amphetamine</td>\n",
       "      <td>dextroamp</td>\n",
       "    </tr>\n",
       "  </tbody>\n",
       "</table>\n",
       "</div>"
      ],
      "text/plain": [
       "         drugName rating           effectiveness        sideEffects condition                                     benefitsReview                                  sideEffectsReview                                     commentsReview first_drugName active_ingredient_name over_counter_name\n",
       "2388  amphetamine      9  Considerably Effective  Mild Side Effects       add  Elimated restless feeling and able to sleep at...  Taken on an empty stomach, it makes you a litt...  My doctor recommended this course of treatment...    amphetamine            amphetamine         dextroamp"
      ]
     },
     "execution_count": 5,
     "metadata": {},
     "output_type": "execute_result"
    }
   ],
   "source": [
    "druglib_full[druglib_full.first_drugName != druglib_full.over_counter_name]"
   ]
  },
  {
   "cell_type": "markdown",
   "metadata": {},
   "source": [
    "Only instance in druglib where the drug name didn't match up with the over counter name was for amphetamine"
   ]
  },
  {
   "cell_type": "code",
   "execution_count": 6,
   "metadata": {},
   "outputs": [],
   "source": [
    "drugName_active_ingredient = druglib_full.drugName.append(druglib_full.active_ingredient_name).unique()"
   ]
  },
  {
   "cell_type": "markdown",
   "metadata": {},
   "source": [
    "### Selecting drugcom data that's in drug name or active ingredient "
   ]
  },
  {
   "cell_type": "code",
   "execution_count": 7,
   "metadata": {},
   "outputs": [],
   "source": [
    "drugcom_whole = drugcom.append(drugcom_test)\n",
    "drugcom_whole = drugcom_whole[drugcom_whole.first_drugName.isin(drugName_active_ingredient)]"
   ]
  },
  {
   "cell_type": "code",
   "execution_count": 8,
   "metadata": {},
   "outputs": [],
   "source": [
    "drugcom_whole[\"over_counter_name\"] = drugcom_whole.first_drugName.apply(lambda x: dnames[dnames.first_ActiveIngredient == x].first_DrugName.value_counts().index[0]\n",
    "                                                           if x in dnames.first_ActiveIngredient.tolist() else x)"
   ]
  },
  {
   "cell_type": "code",
   "execution_count": 9,
   "metadata": {},
   "outputs": [],
   "source": [
    "drugcom_whole.loc[drugcom_whole.first_drugName == \"amphetamine\", \"over_counter_name\"] = \"amphetamine\"\n",
    "drugcom_whole = drugcom_whole[drugcom_whole.over_counter_name.isin(druglib[\"first_drugName\"])]"
   ]
  },
  {
   "cell_type": "markdown",
   "metadata": {},
   "source": [
    "Since the over-the-counter name is the same for all the drug name in druglib after changing amphetamine to amphetamine, after converting the drugcom drug names to over the counter names, can just compare the over the counter names with the drugnames in druglib and only include those matches"
   ]
  },
  {
   "cell_type": "code",
   "execution_count": 10,
   "metadata": {},
   "outputs": [
    {
     "name": "stderr",
     "output_type": "stream",
     "text": [
      "C:\\Users\\Jordan Fan\\Anaconda3\\envs\\stat159\\lib\\site-packages\\pandas\\core\\frame.py:6211: FutureWarning: Sorting because non-concatenation axis is not aligned. A future version\n",
      "of pandas will change to not sort by default.\n",
      "\n",
      "To accept the future behavior, pass 'sort=False'.\n",
      "\n",
      "To retain the current behavior and silence the warning, pass 'sort=True'.\n",
      "\n",
      "  sort=sort)\n"
     ]
    }
   ],
   "source": [
    "drug_whole = druglib_full.append(drugcom_whole)"
   ]
  },
  {
   "cell_type": "code",
   "execution_count": 11,
   "metadata": {},
   "outputs": [],
   "source": [
    "drug_whole.to_csv(\"drug_whole.csv\")"
   ]
  },
  {
   "cell_type": "markdown",
   "metadata": {},
   "source": [
    "### Drug Costs"
   ]
  },
  {
   "cell_type": "markdown",
   "metadata": {},
   "source": [
    "##### Same process of filtering as drugcom "
   ]
  },
  {
   "cell_type": "code",
   "execution_count": 8,
   "metadata": {
    "scrolled": false
   },
   "outputs": [
    {
     "ename": "AttributeError",
     "evalue": "'DataFrame' object has no attribute 'first_drugName'",
     "output_type": "error",
     "traceback": [
      "\u001b[1;31m---------------------------------------------------------------------------\u001b[0m",
      "\u001b[1;31mAttributeError\u001b[0m                            Traceback (most recent call last)",
      "\u001b[1;32m<ipython-input-8-c6e1f643db45>\u001b[0m in \u001b[0;36m<module>\u001b[1;34m()\u001b[0m\n\u001b[1;32m----> 1\u001b[1;33m \u001b[0mdrug_costs\u001b[0m \u001b[1;33m=\u001b[0m \u001b[0mdrug_cost\u001b[0m\u001b[1;33m[\u001b[0m\u001b[0mdrug_cost\u001b[0m\u001b[1;33m.\u001b[0m\u001b[0mfirst_drugName\u001b[0m\u001b[1;33m.\u001b[0m\u001b[0misin\u001b[0m\u001b[1;33m(\u001b[0m\u001b[0mdrugName_active_ingredient\u001b[0m\u001b[1;33m)\u001b[0m\u001b[1;33m]\u001b[0m\u001b[1;33m\u001b[0m\u001b[0m\n\u001b[0m",
      "\u001b[1;32m~\\Anaconda3\\envs\\stat159\\lib\\site-packages\\pandas\\core\\generic.py\u001b[0m in \u001b[0;36m__getattr__\u001b[1;34m(self, name)\u001b[0m\n\u001b[0;32m   4374\u001b[0m             \u001b[1;32mif\u001b[0m \u001b[0mself\u001b[0m\u001b[1;33m.\u001b[0m\u001b[0m_info_axis\u001b[0m\u001b[1;33m.\u001b[0m\u001b[0m_can_hold_identifiers_and_holds_name\u001b[0m\u001b[1;33m(\u001b[0m\u001b[0mname\u001b[0m\u001b[1;33m)\u001b[0m\u001b[1;33m:\u001b[0m\u001b[1;33m\u001b[0m\u001b[0m\n\u001b[0;32m   4375\u001b[0m                 \u001b[1;32mreturn\u001b[0m \u001b[0mself\u001b[0m\u001b[1;33m[\u001b[0m\u001b[0mname\u001b[0m\u001b[1;33m]\u001b[0m\u001b[1;33m\u001b[0m\u001b[0m\n\u001b[1;32m-> 4376\u001b[1;33m             \u001b[1;32mreturn\u001b[0m \u001b[0mobject\u001b[0m\u001b[1;33m.\u001b[0m\u001b[0m__getattribute__\u001b[0m\u001b[1;33m(\u001b[0m\u001b[0mself\u001b[0m\u001b[1;33m,\u001b[0m \u001b[0mname\u001b[0m\u001b[1;33m)\u001b[0m\u001b[1;33m\u001b[0m\u001b[0m\n\u001b[0m\u001b[0;32m   4377\u001b[0m \u001b[1;33m\u001b[0m\u001b[0m\n\u001b[0;32m   4378\u001b[0m     \u001b[1;32mdef\u001b[0m \u001b[0m__setattr__\u001b[0m\u001b[1;33m(\u001b[0m\u001b[0mself\u001b[0m\u001b[1;33m,\u001b[0m \u001b[0mname\u001b[0m\u001b[1;33m,\u001b[0m \u001b[0mvalue\u001b[0m\u001b[1;33m)\u001b[0m\u001b[1;33m:\u001b[0m\u001b[1;33m\u001b[0m\u001b[0m\n",
      "\u001b[1;31mAttributeError\u001b[0m: 'DataFrame' object has no attribute 'first_drugName'"
     ]
    }
   ],
   "source": [
    "drug_costs = drug_cost[drug_cost.first_drugName.isin(drugName_active_ingredient)]"
   ]
  },
  {
   "cell_type": "code",
   "execution_count": 13,
   "metadata": {},
   "outputs": [],
   "source": [
    "#grouped drugs and took minimum price \n",
    "drug_costs_min_grouped = drug_costs.groupby(\"first_drugName\", as_index = False)[\"price\"].min()\n",
    "drug_costs_min_grouped[\"over_counter_name\"] = drug_costs_min_grouped.first_drugName.apply(lambda x: dnames[dnames.first_ActiveIngredient == x].first_DrugName.value_counts().index[0]\n",
    "                                                           if x in dnames.first_ActiveIngredient.tolist() else x)"
   ]
  },
  {
   "cell_type": "code",
   "execution_count": 14,
   "metadata": {
    "scrolled": true
   },
   "outputs": [],
   "source": [
    "drug_costs_min_grouped.loc[drug_costs_min_grouped.first_drugName == \"amphetamine\", \"over_counter_name\"] = \"amphetamine\"\n",
    "drug_costs_min_grouped = drug_costs_min_grouped[drug_costs_min_grouped[\"over_counter_name\"].isin(druglib[\"first_drugName\"])]\n",
    "drug_costs_min_grouped = drug_costs_min_grouped.drop(\"first_drugName\", axis = 1)"
   ]
  },
  {
   "cell_type": "markdown",
   "metadata": {},
   "source": [
    "### Merging Drug Costs with Drug Whole "
   ]
  },
  {
   "cell_type": "code",
   "execution_count": 15,
   "metadata": {},
   "outputs": [
    {
     "data": {
      "text/html": [
       "<div>\n",
       "<style scoped>\n",
       "    .dataframe tbody tr th:only-of-type {\n",
       "        vertical-align: middle;\n",
       "    }\n",
       "\n",
       "    .dataframe tbody tr th {\n",
       "        vertical-align: top;\n",
       "    }\n",
       "\n",
       "    .dataframe thead th {\n",
       "        text-align: right;\n",
       "    }\n",
       "</style>\n",
       "<table border=\"1\" class=\"dataframe\">\n",
       "  <thead>\n",
       "    <tr style=\"text-align: right;\">\n",
       "      <th></th>\n",
       "      <th>price</th>\n",
       "      <th>over_counter_name</th>\n",
       "    </tr>\n",
       "  </thead>\n",
       "  <tbody>\n",
       "    <tr>\n",
       "      <th>0</th>\n",
       "      <td>4.73227</td>\n",
       "      <td>abilify</td>\n",
       "    </tr>\n",
       "    <tr>\n",
       "      <th>2</th>\n",
       "      <td>1.84436</td>\n",
       "      <td>accolate</td>\n",
       "    </tr>\n",
       "    <tr>\n",
       "      <th>3</th>\n",
       "      <td>2.24099</td>\n",
       "      <td>accupril</td>\n",
       "    </tr>\n",
       "    <tr>\n",
       "      <th>5</th>\n",
       "      <td>11.00438</td>\n",
       "      <td>aciphex</td>\n",
       "    </tr>\n",
       "    <tr>\n",
       "      <th>6</th>\n",
       "      <td>5.03782</td>\n",
       "      <td>actonel</td>\n",
       "    </tr>\n",
       "  </tbody>\n",
       "</table>\n",
       "</div>"
      ],
      "text/plain": [
       "      price over_counter_name\n",
       "0   4.73227           abilify\n",
       "2   1.84436          accolate\n",
       "3   2.24099          accupril\n",
       "5  11.00438           aciphex\n",
       "6   5.03782           actonel"
      ]
     },
     "execution_count": 15,
     "metadata": {},
     "output_type": "execute_result"
    }
   ],
   "source": [
    "drug_costs_min_grouped.head()"
   ]
  },
  {
   "cell_type": "code",
   "execution_count": 16,
   "metadata": {},
   "outputs": [
    {
     "data": {
      "text/html": [
       "<div>\n",
       "<style scoped>\n",
       "    .dataframe tbody tr th:only-of-type {\n",
       "        vertical-align: middle;\n",
       "    }\n",
       "\n",
       "    .dataframe tbody tr th {\n",
       "        vertical-align: top;\n",
       "    }\n",
       "\n",
       "    .dataframe thead th {\n",
       "        text-align: right;\n",
       "    }\n",
       "</style>\n",
       "<table border=\"1\" class=\"dataframe\">\n",
       "  <thead>\n",
       "    <tr style=\"text-align: right;\">\n",
       "      <th></th>\n",
       "      <th>active_ingredient_name</th>\n",
       "      <th>benefitsReview</th>\n",
       "      <th>commentsReview</th>\n",
       "      <th>condition</th>\n",
       "      <th>date</th>\n",
       "      <th>drugName</th>\n",
       "      <th>effectiveness</th>\n",
       "      <th>first_drugName</th>\n",
       "      <th>over_counter_name</th>\n",
       "      <th>rating</th>\n",
       "      <th>review</th>\n",
       "      <th>sideEffects</th>\n",
       "      <th>sideEffectsReview</th>\n",
       "      <th>usefulCount</th>\n",
       "    </tr>\n",
       "  </thead>\n",
       "  <tbody>\n",
       "    <tr>\n",
       "      <th>1</th>\n",
       "      <td>enalapril</td>\n",
       "      <td>slowed the progression of left ventricular dys...</td>\n",
       "      <td>monitor blood pressure , weight and asses for ...</td>\n",
       "      <td>management of congestive heart failure</td>\n",
       "      <td>NaN</td>\n",
       "      <td>enalapril</td>\n",
       "      <td>Highly Effective</td>\n",
       "      <td>enalapril</td>\n",
       "      <td>enalapril</td>\n",
       "      <td>4</td>\n",
       "      <td>NaN</td>\n",
       "      <td>Mild Side Effects</td>\n",
       "      <td>cough, hypotension , proteinuria, impotence , ...</td>\n",
       "      <td>NaN</td>\n",
       "    </tr>\n",
       "    <tr>\n",
       "      <th>2</th>\n",
       "      <td>orthotricyclen</td>\n",
       "      <td>Although this type of birth control has more c...</td>\n",
       "      <td>I Hate This Birth Control, I Would Not Suggest...</td>\n",
       "      <td>birth prevention</td>\n",
       "      <td>NaN</td>\n",
       "      <td>ortho-tri-cyclen</td>\n",
       "      <td>Highly Effective</td>\n",
       "      <td>orthotricyclen</td>\n",
       "      <td>orthotricyclen</td>\n",
       "      <td>1</td>\n",
       "      <td>NaN</td>\n",
       "      <td>Severe Side Effects</td>\n",
       "      <td>Heavy Cycle, Cramps, Hot Flashes, Fatigue, Lon...</td>\n",
       "      <td>NaN</td>\n",
       "    </tr>\n",
       "    <tr>\n",
       "      <th>3</th>\n",
       "      <td>mefenamic</td>\n",
       "      <td>I was used to having cramps so badly that they...</td>\n",
       "      <td>I took 2 pills at the onset of my menstrual cr...</td>\n",
       "      <td>menstrual cramps</td>\n",
       "      <td>NaN</td>\n",
       "      <td>ponstel</td>\n",
       "      <td>Highly Effective</td>\n",
       "      <td>ponstel</td>\n",
       "      <td>ponstel</td>\n",
       "      <td>10</td>\n",
       "      <td>NaN</td>\n",
       "      <td>No Side Effects</td>\n",
       "      <td>Heavier bleeding and clotting than normal.</td>\n",
       "      <td>NaN</td>\n",
       "    </tr>\n",
       "    <tr>\n",
       "      <th>4</th>\n",
       "      <td>omeprazole</td>\n",
       "      <td>The acid reflux went away for a few months aft...</td>\n",
       "      <td>I was given Prilosec prescription at a dose of...</td>\n",
       "      <td>acid reflux</td>\n",
       "      <td>NaN</td>\n",
       "      <td>prilosec</td>\n",
       "      <td>Marginally Effective</td>\n",
       "      <td>prilosec</td>\n",
       "      <td>prilosec</td>\n",
       "      <td>3</td>\n",
       "      <td>NaN</td>\n",
       "      <td>Mild Side Effects</td>\n",
       "      <td>Constipation, dry mouth and some mild dizzines...</td>\n",
       "      <td>NaN</td>\n",
       "    </tr>\n",
       "    <tr>\n",
       "      <th>5</th>\n",
       "      <td>pregabalin</td>\n",
       "      <td>I think that the Lyrica was starting to help w...</td>\n",
       "      <td>See above</td>\n",
       "      <td>fibromyalgia</td>\n",
       "      <td>NaN</td>\n",
       "      <td>lyrica</td>\n",
       "      <td>Marginally Effective</td>\n",
       "      <td>lyrica</td>\n",
       "      <td>lyrica</td>\n",
       "      <td>2</td>\n",
       "      <td>NaN</td>\n",
       "      <td>Severe Side Effects</td>\n",
       "      <td>I felt extremely drugged and dopey.  Could not...</td>\n",
       "      <td>NaN</td>\n",
       "    </tr>\n",
       "  </tbody>\n",
       "</table>\n",
       "</div>"
      ],
      "text/plain": [
       "  active_ingredient_name                                     benefitsReview                                     commentsReview                               condition date          drugName         effectiveness  first_drugName over_counter_name rating review          sideEffects                                  sideEffectsReview usefulCount\n",
       "1              enalapril  slowed the progression of left ventricular dys...  monitor blood pressure , weight and asses for ...  management of congestive heart failure  NaN         enalapril      Highly Effective       enalapril         enalapril      4    NaN    Mild Side Effects  cough, hypotension , proteinuria, impotence , ...         NaN\n",
       "2         orthotricyclen  Although this type of birth control has more c...  I Hate This Birth Control, I Would Not Suggest...                        birth prevention  NaN  ortho-tri-cyclen      Highly Effective  orthotricyclen    orthotricyclen      1    NaN  Severe Side Effects  Heavy Cycle, Cramps, Hot Flashes, Fatigue, Lon...         NaN\n",
       "3              mefenamic  I was used to having cramps so badly that they...  I took 2 pills at the onset of my menstrual cr...                        menstrual cramps  NaN           ponstel      Highly Effective         ponstel           ponstel     10    NaN      No Side Effects         Heavier bleeding and clotting than normal.         NaN\n",
       "4             omeprazole  The acid reflux went away for a few months aft...  I was given Prilosec prescription at a dose of...                             acid reflux  NaN          prilosec  Marginally Effective        prilosec          prilosec      3    NaN    Mild Side Effects  Constipation, dry mouth and some mild dizzines...         NaN\n",
       "5             pregabalin  I think that the Lyrica was starting to help w...                                          See above                            fibromyalgia  NaN            lyrica  Marginally Effective          lyrica            lyrica      2    NaN  Severe Side Effects  I felt extremely drugged and dopey.  Could not...         NaN"
      ]
     },
     "execution_count": 16,
     "metadata": {},
     "output_type": "execute_result"
    }
   ],
   "source": [
    "drug_whole.head()"
   ]
  },
  {
   "cell_type": "code",
   "execution_count": 17,
   "metadata": {},
   "outputs": [
    {
     "data": {
      "text/html": [
       "<div>\n",
       "<style scoped>\n",
       "    .dataframe tbody tr th:only-of-type {\n",
       "        vertical-align: middle;\n",
       "    }\n",
       "\n",
       "    .dataframe tbody tr th {\n",
       "        vertical-align: top;\n",
       "    }\n",
       "\n",
       "    .dataframe thead th {\n",
       "        text-align: right;\n",
       "    }\n",
       "</style>\n",
       "<table border=\"1\" class=\"dataframe\">\n",
       "  <thead>\n",
       "    <tr style=\"text-align: right;\">\n",
       "      <th></th>\n",
       "      <th>active_ingredient_name</th>\n",
       "      <th>benefitsReview</th>\n",
       "      <th>commentsReview</th>\n",
       "      <th>condition</th>\n",
       "      <th>date</th>\n",
       "      <th>drugName</th>\n",
       "      <th>effectiveness</th>\n",
       "      <th>first_drugName</th>\n",
       "      <th>over_counter_name</th>\n",
       "      <th>rating</th>\n",
       "      <th>review</th>\n",
       "      <th>sideEffects</th>\n",
       "      <th>sideEffectsReview</th>\n",
       "      <th>usefulCount</th>\n",
       "      <th>price</th>\n",
       "    </tr>\n",
       "  </thead>\n",
       "  <tbody>\n",
       "    <tr>\n",
       "      <th>0</th>\n",
       "      <td>enalapril</td>\n",
       "      <td>slowed the progression of left ventricular dys...</td>\n",
       "      <td>monitor blood pressure , weight and asses for ...</td>\n",
       "      <td>management of congestive heart failure</td>\n",
       "      <td>NaN</td>\n",
       "      <td>enalapril</td>\n",
       "      <td>Highly Effective</td>\n",
       "      <td>enalapril</td>\n",
       "      <td>enalapril</td>\n",
       "      <td>4</td>\n",
       "      <td>NaN</td>\n",
       "      <td>Mild Side Effects</td>\n",
       "      <td>cough, hypotension , proteinuria, impotence , ...</td>\n",
       "      <td>NaN</td>\n",
       "      <td>0.10109</td>\n",
       "    </tr>\n",
       "    <tr>\n",
       "      <th>1</th>\n",
       "      <td>orthotricyclen</td>\n",
       "      <td>Although this type of birth control has more c...</td>\n",
       "      <td>I Hate This Birth Control, I Would Not Suggest...</td>\n",
       "      <td>birth prevention</td>\n",
       "      <td>NaN</td>\n",
       "      <td>ortho-tri-cyclen</td>\n",
       "      <td>Highly Effective</td>\n",
       "      <td>orthotricyclen</td>\n",
       "      <td>orthotricyclen</td>\n",
       "      <td>1</td>\n",
       "      <td>NaN</td>\n",
       "      <td>Severe Side Effects</td>\n",
       "      <td>Heavy Cycle, Cramps, Hot Flashes, Fatigue, Lon...</td>\n",
       "      <td>NaN</td>\n",
       "      <td>NaN</td>\n",
       "    </tr>\n",
       "    <tr>\n",
       "      <th>2</th>\n",
       "      <td>mefenamic</td>\n",
       "      <td>I was used to having cramps so badly that they...</td>\n",
       "      <td>I took 2 pills at the onset of my menstrual cr...</td>\n",
       "      <td>menstrual cramps</td>\n",
       "      <td>NaN</td>\n",
       "      <td>ponstel</td>\n",
       "      <td>Highly Effective</td>\n",
       "      <td>ponstel</td>\n",
       "      <td>ponstel</td>\n",
       "      <td>10</td>\n",
       "      <td>NaN</td>\n",
       "      <td>No Side Effects</td>\n",
       "      <td>Heavier bleeding and clotting than normal.</td>\n",
       "      <td>NaN</td>\n",
       "      <td>NaN</td>\n",
       "    </tr>\n",
       "    <tr>\n",
       "      <th>3</th>\n",
       "      <td>omeprazole</td>\n",
       "      <td>The acid reflux went away for a few months aft...</td>\n",
       "      <td>I was given Prilosec prescription at a dose of...</td>\n",
       "      <td>acid reflux</td>\n",
       "      <td>NaN</td>\n",
       "      <td>prilosec</td>\n",
       "      <td>Marginally Effective</td>\n",
       "      <td>prilosec</td>\n",
       "      <td>prilosec</td>\n",
       "      <td>3</td>\n",
       "      <td>NaN</td>\n",
       "      <td>Mild Side Effects</td>\n",
       "      <td>Constipation, dry mouth and some mild dizzines...</td>\n",
       "      <td>NaN</td>\n",
       "      <td>0.61204</td>\n",
       "    </tr>\n",
       "    <tr>\n",
       "      <th>4</th>\n",
       "      <td>pregabalin</td>\n",
       "      <td>I think that the Lyrica was starting to help w...</td>\n",
       "      <td>See above</td>\n",
       "      <td>fibromyalgia</td>\n",
       "      <td>NaN</td>\n",
       "      <td>lyrica</td>\n",
       "      <td>Marginally Effective</td>\n",
       "      <td>lyrica</td>\n",
       "      <td>lyrica</td>\n",
       "      <td>2</td>\n",
       "      <td>NaN</td>\n",
       "      <td>Severe Side Effects</td>\n",
       "      <td>I felt extremely drugged and dopey.  Could not...</td>\n",
       "      <td>NaN</td>\n",
       "      <td>3.58681</td>\n",
       "    </tr>\n",
       "  </tbody>\n",
       "</table>\n",
       "</div>"
      ],
      "text/plain": [
       "  active_ingredient_name                                     benefitsReview                                     commentsReview                               condition date          drugName         effectiveness  first_drugName over_counter_name rating review          sideEffects                                  sideEffectsReview usefulCount    price\n",
       "0              enalapril  slowed the progression of left ventricular dys...  monitor blood pressure , weight and asses for ...  management of congestive heart failure  NaN         enalapril      Highly Effective       enalapril         enalapril      4    NaN    Mild Side Effects  cough, hypotension , proteinuria, impotence , ...         NaN  0.10109\n",
       "1         orthotricyclen  Although this type of birth control has more c...  I Hate This Birth Control, I Would Not Suggest...                        birth prevention  NaN  ortho-tri-cyclen      Highly Effective  orthotricyclen    orthotricyclen      1    NaN  Severe Side Effects  Heavy Cycle, Cramps, Hot Flashes, Fatigue, Lon...         NaN      NaN\n",
       "2              mefenamic  I was used to having cramps so badly that they...  I took 2 pills at the onset of my menstrual cr...                        menstrual cramps  NaN           ponstel      Highly Effective         ponstel           ponstel     10    NaN      No Side Effects         Heavier bleeding and clotting than normal.         NaN      NaN\n",
       "3             omeprazole  The acid reflux went away for a few months aft...  I was given Prilosec prescription at a dose of...                             acid reflux  NaN          prilosec  Marginally Effective        prilosec          prilosec      3    NaN    Mild Side Effects  Constipation, dry mouth and some mild dizzines...         NaN  0.61204\n",
       "4             pregabalin  I think that the Lyrica was starting to help w...                                          See above                            fibromyalgia  NaN            lyrica  Marginally Effective          lyrica            lyrica      2    NaN  Severe Side Effects  I felt extremely drugged and dopey.  Could not...         NaN  3.58681"
      ]
     },
     "execution_count": 17,
     "metadata": {},
     "output_type": "execute_result"
    }
   ],
   "source": [
    "drug_merged = drug_whole.merge(drug_costs_min_grouped, how = \"left\")\n",
    "drug_merged.head()"
   ]
  },
  {
   "cell_type": "code",
   "execution_count": 21,
   "metadata": {},
   "outputs": [],
   "source": [
    "drug_merged = drug_merged.drop([\"first_drugName\", \"over_counter_name\"], axis = 1)"
   ]
  },
  {
   "cell_type": "code",
   "execution_count": 1,
   "metadata": {},
   "outputs": [
    {
     "ename": "NameError",
     "evalue": "name 'drug_merged' is not defined",
     "output_type": "error",
     "traceback": [
      "\u001b[1;31m---------------------------------------------------------------------------\u001b[0m",
      "\u001b[1;31mNameError\u001b[0m                                 Traceback (most recent call last)",
      "\u001b[1;32m<ipython-input-1-31508ddc090b>\u001b[0m in \u001b[0;36m<module>\u001b[1;34m()\u001b[0m\n\u001b[1;32m----> 1\u001b[1;33m \u001b[0mdrug_merged\u001b[0m\u001b[1;33m.\u001b[0m\u001b[0mto_csv\u001b[0m\u001b[1;33m(\u001b[0m\u001b[1;34m\"drugs_merged.csv\"\u001b[0m\u001b[1;33m)\u001b[0m\u001b[1;33m\u001b[0m\u001b[0m\n\u001b[0m",
      "\u001b[1;31mNameError\u001b[0m: name 'drug_merged' is not defined"
     ]
    }
   ],
   "source": [
    "drug_merged.to_csv(\"drugs_merged.csv\")"
   ]
  },
  {
   "cell_type": "code",
   "execution_count": null,
   "metadata": {},
   "outputs": [],
   "source": []
  }
 ],
 "metadata": {
  "kernelspec": {
   "display_name": "Python 3",
   "language": "python",
   "name": "python3"
  },
  "language_info": {
   "codemirror_mode": {
    "name": "ipython",
    "version": 3
   },
   "file_extension": ".py",
   "mimetype": "text/x-python",
   "name": "python",
   "nbconvert_exporter": "python",
   "pygments_lexer": "ipython3",
   "version": "3.6.6"
  }
 },
 "nbformat": 4,
 "nbformat_minor": 2
}
